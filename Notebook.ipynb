{
 "cells": [
  {
   "cell_type": "markdown",
   "id": "2cb2d27a",
   "metadata": {},
   "source": [
    "# Learning Machine Learning with Python\n",
    "\n",
    "Checking matplotlib"
   ]
  },
  {
   "cell_type": "code",
   "execution_count": null,
   "id": "c7b0eb99",
   "metadata": {},
   "outputs": [
    {
     "ename": "SyntaxError",
     "evalue": "invalid syntax (1278701883.py, line 2)",
     "output_type": "error",
     "traceback": [
      "\u001b[1;36m  Cell \u001b[1;32mIn[12], line 2\u001b[1;36m\u001b[0m\n\u001b[1;33m    mport numpy as np\u001b[0m\n\u001b[1;37m          ^\u001b[0m\n\u001b[1;31mSyntaxError\u001b[0m\u001b[1;31m:\u001b[0m invalid syntax\n"
     ]
    }
   ],
   "source": [
    "%matplotlib widget\n",
    "import numpy as np\n",
    "import matplotlib.pyplot as plt\n",
    "import pandas as pd\n",
    "import mglearn\n",
    "from IPython.display import display\n",
    "\n",
    "# Generate numbers from -10 to 10 with 100 steps\n",
    "\n",
    "x = np.linspace(-10,10,100)\n",
    "\n",
    "# Array sine \n",
    "\n",
    "y = np.sin(x)\n",
    "\n",
    "# Chart of the two\n",
    "\n",
    "plt.plot(x,y,marker=\"x\")"
   ]
  },
  {
   "cell_type": "markdown",
   "id": "22c6762f",
   "metadata": {},
   "source": [
    "# Pandas\n",
    "\n",
    "Pandas is a library for data analysis. It's modelled after R's DataFrame, which is similiar to Excel's spreadsheet. It allows SQL-Like queries, and joins of the tables.    "
   ]
  },
  {
   "cell_type": "code",
   "execution_count": 4,
   "id": "0f0d48c7",
   "metadata": {},
   "outputs": [
    {
     "data": {
      "text/html": [
       "<div>\n",
       "<style scoped>\n",
       "    .dataframe tbody tr th:only-of-type {\n",
       "        vertical-align: middle;\n",
       "    }\n",
       "\n",
       "    .dataframe tbody tr th {\n",
       "        vertical-align: top;\n",
       "    }\n",
       "\n",
       "    .dataframe thead th {\n",
       "        text-align: right;\n",
       "    }\n",
       "</style>\n",
       "<table border=\"1\" class=\"dataframe\">\n",
       "  <thead>\n",
       "    <tr style=\"text-align: right;\">\n",
       "      <th></th>\n",
       "      <th>Name</th>\n",
       "      <th>Location</th>\n",
       "      <th>Age</th>\n",
       "    </tr>\n",
       "  </thead>\n",
       "  <tbody>\n",
       "    <tr>\n",
       "      <th>0</th>\n",
       "      <td>John</td>\n",
       "      <td>Warsaw</td>\n",
       "      <td>34</td>\n",
       "    </tr>\n",
       "    <tr>\n",
       "      <th>1</th>\n",
       "      <td>Anna</td>\n",
       "      <td>Berlin</td>\n",
       "      <td>21</td>\n",
       "    </tr>\n",
       "    <tr>\n",
       "      <th>2</th>\n",
       "      <td>Peter</td>\n",
       "      <td>Tokyo</td>\n",
       "      <td>46</td>\n",
       "    </tr>\n",
       "    <tr>\n",
       "      <th>3</th>\n",
       "      <td>Linda</td>\n",
       "      <td>Amsterdam</td>\n",
       "      <td>73</td>\n",
       "    </tr>\n",
       "  </tbody>\n",
       "</table>\n",
       "</div>"
      ],
      "text/plain": [
       "    Name   Location  Age\n",
       "0   John     Warsaw   34\n",
       "1   Anna     Berlin   21\n",
       "2  Peter      Tokyo   46\n",
       "3  Linda  Amsterdam   73"
      ]
     },
     "metadata": {},
     "output_type": "display_data"
    }
   ],
   "source": [
    "import pandas as pd\n",
    "#Data set\n",
    "data = {'Name': [\"John\",\"Anna\",\"Peter\",\"Linda\"],\n",
    "        'Location': [\"Warsaw\",\"Berlin\",\"Tokyo\",\"Amsterdam\"],\n",
    "        'Age': [34,21,46,73]\n",
    "        }\n",
    "\n",
    "data_panda = pd.DataFrame(data)\n",
    "\n",
    "# Display\n",
    "display(data_panda)"
   ]
  },
  {
   "cell_type": "markdown",
   "id": "60482b4c",
   "metadata": {},
   "source": [
    "Querying the table - select the rows with age greater than 35"
   ]
  },
  {
   "cell_type": "code",
   "execution_count": 5,
   "id": "0e7501a9",
   "metadata": {},
   "outputs": [
    {
     "data": {
      "text/html": [
       "<div>\n",
       "<style scoped>\n",
       "    .dataframe tbody tr th:only-of-type {\n",
       "        vertical-align: middle;\n",
       "    }\n",
       "\n",
       "    .dataframe tbody tr th {\n",
       "        vertical-align: top;\n",
       "    }\n",
       "\n",
       "    .dataframe thead th {\n",
       "        text-align: right;\n",
       "    }\n",
       "</style>\n",
       "<table border=\"1\" class=\"dataframe\">\n",
       "  <thead>\n",
       "    <tr style=\"text-align: right;\">\n",
       "      <th></th>\n",
       "      <th>Name</th>\n",
       "      <th>Location</th>\n",
       "      <th>Age</th>\n",
       "    </tr>\n",
       "  </thead>\n",
       "  <tbody>\n",
       "    <tr>\n",
       "      <th>2</th>\n",
       "      <td>Peter</td>\n",
       "      <td>Tokyo</td>\n",
       "      <td>46</td>\n",
       "    </tr>\n",
       "    <tr>\n",
       "      <th>3</th>\n",
       "      <td>Linda</td>\n",
       "      <td>Amsterdam</td>\n",
       "      <td>73</td>\n",
       "    </tr>\n",
       "  </tbody>\n",
       "</table>\n",
       "</div>"
      ],
      "text/plain": [
       "    Name   Location  Age\n",
       "2  Peter      Tokyo   46\n",
       "3  Linda  Amsterdam   73"
      ]
     },
     "metadata": {},
     "output_type": "display_data"
    }
   ],
   "source": [
    "display(data_panda[data_panda.Age > 35])"
   ]
  }
 ],
 "metadata": {
  "kernelspec": {
   "display_name": "base",
   "language": "python",
   "name": "python3"
  },
  "language_info": {
   "codemirror_mode": {
    "name": "ipython",
    "version": 3
   },
   "file_extension": ".py",
   "mimetype": "text/x-python",
   "name": "python",
   "nbconvert_exporter": "python",
   "pygments_lexer": "ipython3",
   "version": "3.12.7"
  }
 },
 "nbformat": 4,
 "nbformat_minor": 5
}
