{
 "cells": [
  {
   "cell_type": "markdown",
   "id": "c3cacfe7",
   "metadata": {},
   "source": [
    "# Creating the first machine learning project\n",
    "\n",
    "We are using Iris dataset included in scikit-learn. We load it up with: "
   ]
  },
  {
   "cell_type": "code",
   "execution_count": null,
   "id": "437bb3cf",
   "metadata": {},
   "outputs": [
    {
     "name": "stdout",
     "output_type": "stream",
     "text": [
      "Keys of data \n",
      "dict_keys(['data', 'target', 'frame', 'target_names', 'DESCR', 'feature_names', 'filename', 'data_module'])\n"
     ]
    }
   ],
   "source": [
    "from sklearn.datasets import load_iris\n",
    "import numpy as np\n",
    "import matplotlib.pyplot as plt\n",
    "import pandas as pd\n",
    "\n",
    "iris_data = load_iris()\n",
    "\n",
    "# It's bunch data\n",
    "print(\"Keys of data \\n{}\".format(iris_data.keys()))"
   ]
  },
  {
   "cell_type": "code",
   "execution_count": 17,
   "id": "6fdcb7fe",
   "metadata": {},
   "outputs": [
    {
     "name": "stdout",
     "output_type": "stream",
     "text": [
      "Shape of data: (150, 4)\n"
     ]
    }
   ],
   "source": [
    "print(\"Shape of data: {}\".format(iris_data['data'].shape))"
   ]
  },
  {
   "cell_type": "markdown",
   "id": "8044a86a",
   "metadata": {},
   "source": [
    "We will call a **train_test_split** on our data to split it into two parts: 75% that will be used to teach our model and 25% that will be used for testing. \n",
    "Datas are split up in two parts: X - for data (two dimensional array, matrix) and y - labels (a vector)"
   ]
  },
  {
   "cell_type": "code",
   "execution_count": 18,
   "id": "397f199e",
   "metadata": {},
   "outputs": [
    {
     "name": "stdout",
     "output_type": "stream",
     "text": [
      "X_train shape: (112, 4)\n",
      "y_train shape: (112,)\n",
      "\n",
      " X_test shape: (38, 4)\n",
      "y_test shape: (38,)\n"
     ]
    }
   ],
   "source": [
    "from sklearn.model_selection import train_test_split\n",
    "X_train, X_test, y_train, y_test = train_test_split(\n",
    "    iris_data['data'], iris_data['target'], random_state=0\n",
    ")\n",
    "\n",
    "print(\"X_train shape: {}\".format(X_train.shape))\n",
    "print(\"y_train shape: {}\".format(y_train.shape))\n",
    "print(\"\\n X_test shape: {}\".format(X_test.shape))\n",
    "print(\"y_test shape: {}\".format(y_test.shape))\n"
   ]
  },
  {
   "cell_type": "markdown",
   "id": "26490fce",
   "metadata": {},
   "source": []
  },
  {
   "cell_type": "code",
   "execution_count": null,
   "id": "ddb2c7d3",
   "metadata": {},
   "outputs": [],
   "source": [
    "# Creating dataframe from our iris data\n",
    "\n",
    "iris_data = pd.DataFrame"
   ]
  }
 ],
 "metadata": {
  "kernelspec": {
   "display_name": "base",
   "language": "python",
   "name": "python3"
  },
  "language_info": {
   "codemirror_mode": {
    "name": "ipython",
    "version": 3
   },
   "file_extension": ".py",
   "mimetype": "text/x-python",
   "name": "python",
   "nbconvert_exporter": "python",
   "pygments_lexer": "ipython3",
   "version": "3.12.7"
  }
 },
 "nbformat": 4,
 "nbformat_minor": 5
}
